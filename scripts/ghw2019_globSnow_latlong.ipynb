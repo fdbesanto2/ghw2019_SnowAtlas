{
 "cells": [
  {
   "cell_type": "code",
   "execution_count": 1,
   "metadata": {},
   "outputs": [],
   "source": [
    "# Import Libraries\n",
    "import xarray as xr\n",
    "import numpy as np\n",
    "import os\n",
    "import sys\n",
    "import matplotlib.pyplot as plt\n",
    "%matplotlib inline\n",
    "from osgeo import gdal\n",
    "from PIL import Image"
   ]
  },
  {
   "cell_type": "code",
   "execution_count": 3,
   "metadata": {},
   "outputs": [],
   "source": [
    "# Set gdal environment\n",
    "# Note: think of this as where all the projections live\n",
    "GDAL_DATA='C:/Users/vicki/Documents/GlobSnow/GlobSnow_SWE_L3B_monthly_2016_v2.0'\n",
    "os.environ['GDAL_DATA'] = r'C:\\Users\\vicki\\Anaconda3\\pkgs\\libgdal-2.2.2-h2727f2b_1\\Library\\share\\gdal'"
   ]
  },
  {
   "cell_type": "code",
   "execution_count": 4,
   "metadata": {},
   "outputs": [],
   "source": [
    "#check metadata from original file\n",
    "file = r'C:/Users/vicki/Documents/GlobSnow/GlobSnow_SWE_L3B_monthly_2016_v2.0/GlobSnow_SWE_L3B_monthly_201601_v2.0.hdf'\n",
    "f = xr.open_dataset(file)"
   ]
  },
  {
   "cell_type": "code",
   "execution_count": 6,
   "metadata": {},
   "outputs": [
    {
     "data": {
      "text/plain": [
       "<xarray.Dataset>\n",
       "Dimensions:      (fakeDim0: 721, fakeDim1: 721, fakeDim2: 721, fakeDim3: 721)\n",
       "Dimensions without coordinates: fakeDim0, fakeDim1, fakeDim2, fakeDim3\n",
       "Data variables:\n",
       "    swe_average  (fakeDim0, fakeDim1) float32 ...\n",
       "    swe_maximum  (fakeDim2, fakeDim3) float32 ...\n",
       "Attributes:\n",
       "    Data content, field 1:        Monthly mean Snow Water Equivalent (mm)\n",
       "    Data content, field 2:        Monthly maximum Snow Water Equivalent (mm)\n",
       "    Sensor :                      SSM/I\n",
       "    Data Date :                   yyyymmdd\n",
       "    Processing Date:              yyyymmdd\n",
       "    Coordinate system :           Equal-Area Scalable Earth Grid (EASE-Grid) ...\n",
       "    Latitude range:               35N - 85N\n",
       "    Longitude range:              180W - 180E\n",
       "    Spatial Resolution :          25 X 25 sq.km\n",
       "    Processing software name:     FMI assimilation algorithm (Pullianen 2006)\n",
       "    Processing software version:  v 2.0\n",
       "    Processing Organisation:      Finnish Meteorological Institute\n",
       "    Landmask :                     GLC-2000 derived land classification mask\n",
       "    Landmask version:             v 2.0\n",
       "    Mountain mask :               ETOPO-5 derived mountain mask\n",
       "    Mountain mask version :       v 2.0\n",
       "    forest mask name :            GLC-2000 derived forest mask\n",
       "    forest mask version :         v 2.0"
      ]
     },
     "execution_count": 6,
     "metadata": {},
     "output_type": "execute_result"
    }
   ],
   "source": [
    "#print file to check\n",
    "f"
   ]
  },
  {
   "cell_type": "code",
   "execution_count": null,
   "metadata": {},
   "outputs": [],
   "source": []
  }
 ],
 "metadata": {
  "kernelspec": {
   "display_name": "Python 3",
   "language": "python",
   "name": "python3"
  },
  "language_info": {
   "codemirror_mode": {
    "name": "ipython",
    "version": 3
   },
   "file_extension": ".py",
   "mimetype": "text/x-python",
   "name": "python",
   "nbconvert_exporter": "python",
   "pygments_lexer": "ipython3",
   "version": "3.6.4"
  }
 },
 "nbformat": 4,
 "nbformat_minor": 2
}
